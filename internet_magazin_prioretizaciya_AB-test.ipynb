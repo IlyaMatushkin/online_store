{
 "cells": [
  {
   "cell_type": "markdown",
   "id": "64a045a3",
   "metadata": {},
   "source": [
    "# Проверка гипотез по увеличению выручки в интернет-магазине и оценка результатов A/B теста\n",
    "\n",
    "**Цель:** Приоритезировать гипотезы и произвести оценку результатов A/B-тестирования.\n",
    "\n",
    "**Описание:** Подготовлен список гипотез для увеличения выручки интернет-магазина. Проведена приоретизация гипотез по фреймворкам ICE и RICE. Также проведен анализ A/B-тестирования по разным показателям: пострены графики кумулятивной выручки, среднего чека, конверсии по группам, посчитана статистическая значимость различий конверсий и средних чеков по сырым и очищенным данным. Написаны общие и промежуточные выводы, принято решение о нецелесообразности дальнейшего проведения теста.\n",
    "\n",
    "---\n",
    "Для этого исследования использовал:\n",
    "- 9 гипотез по увеличению выручки интернет-магазина с указанными параметрами Reach, Impact, Confidence, Effort.\n",
    "- Выгрузки результатов A/B теста в двух файла\n",
    "\n",
    "---\n",
    "\n",
    "В работе использовал библиотеки *pandas, numpy, scipy, datetime, matplotlib*"
   ]
  },
  {
   "cell_type": "markdown",
   "id": "d2b42e40",
   "metadata": {},
   "source": [
    "### Содержание проекта\n",
    "\n",
    "[**Часть 1. Приоретизация гипотез**](#часть1)\n",
    "\n",
    "- [Вывод первой части](#вывод1)\n",
    "\n",
    "[**Часть 2. Анализ A/B теста**](#часть2)\n",
    "\n",
    "- [Подготовка данных](#подготовка_данных)\n",
    "\n",
    "- [2.1. График кумулятивной выручки по группам](#2.1)\n",
    "\n",
    "- [2.2. График кумулятивного среднего чека по группам](#2.2)\n",
    "\n",
    "- [2.3. График относительного изменения кумулятивного среднего чека группы B к группе A](#2.3)\n",
    "\n",
    "- [2.4. График кумулятивного среднего количества заказов на посетителя по группам](#2.4)\n",
    "\n",
    "- [2.5. График относительного изменения кумулятивного среднего количества заказов на посетителя группы B к группе A](#2.5)\n",
    "\n",
    "- [2.6. Точечный график количества заказов по пользователям](#2.6)\n",
    "\n",
    "- [2.7. Посчитаем 95-й и 99-й перцентили количества заказов на пользователя](#2.7)\n",
    "\n",
    "- [2.8. Построим точечный график стоимостей заказов](#2.8)\n",
    "\n",
    "- [2.9. Посчитаем 95-й и 99-й перцентили стоимости заказов](#2.9)\n",
    "\n",
    "- [2.10 Статистическая значимость различий в среднем количестве заказов на посетителя между группами по «сырым» данным](#2.10)\n",
    "\n",
    "- [2.11. Статистическая значимость различий в среднем чеке заказа между группами по «сырым» данным](#2.11)\n",
    "\n",
    "- [2.12. Cтатистическая значимость различий в среднем количестве заказов на посетителя между группами по «очищенным» данным](#2.13)\n",
    "\n",
    "- [2.13. Статистическая значимость различий в среднем чеке заказа между группами по «очищенным» данным](#2.13)\n",
    "\n",
    "[**Общие выводы**](#2.14)"
   ]
  },
  {
   "cell_type": "code",
   "execution_count": 1,
   "id": "06fa3c74",
   "metadata": {},
   "outputs": [],
   "source": [
    "# подключим нужные библиотеки\n",
    "\n",
    "import pandas as pd\n",
    "import numpy as np\n",
    "import scipy.stats as stats\n",
    "import datetime as dt\n",
    "from matplotlib import pyplot as plt"
   ]
  },
  {
   "cell_type": "code",
   "execution_count": 2,
   "id": "74ede1d3",
   "metadata": {},
   "outputs": [],
   "source": [
    "# выгрузим данные\n",
    "\n",
    "try:\n",
    "    hypothesis, orders, visitors = (\n",
    "    pd.read_csv('hypothesis.csv'),  # гипотезы\n",
    "    pd.read_csv('orders.csv'),  # покупки\n",
    "    pd.read_csv('visitors.csv'),  # посетители\n",
    ")\n",
    "except:\n",
    "    hypothesis, orders, visitors = (\n",
    "    pd.read_csv('/datasets/hypothesis.csv'),\n",
    "    pd.read_csv('/datasets/orders.csv'),\n",
    "    pd.read_csv('/datasets/visitors.csv'), \n",
    ")"
   ]
  },
  {
   "cell_type": "markdown",
   "id": "445c4d30",
   "metadata": {},
   "source": [
    "### <a id='часть1'>Часть 1. Приоритезация гипотез</a>"
   ]
  },
  {
   "cell_type": "code",
   "execution_count": 3,
   "id": "3d4da899",
   "metadata": {},
   "outputs": [
    {
     "data": {
      "text/html": [
       "<div>\n",
       "<style scoped>\n",
       "    .dataframe tbody tr th:only-of-type {\n",
       "        vertical-align: middle;\n",
       "    }\n",
       "\n",
       "    .dataframe tbody tr th {\n",
       "        vertical-align: top;\n",
       "    }\n",
       "\n",
       "    .dataframe thead th {\n",
       "        text-align: right;\n",
       "    }\n",
       "</style>\n",
       "<table border=\"1\" class=\"dataframe\">\n",
       "  <thead>\n",
       "    <tr style=\"text-align: right;\">\n",
       "      <th></th>\n",
       "      <th>Hypothesis</th>\n",
       "      <th>Reach</th>\n",
       "      <th>Impact</th>\n",
       "      <th>Confidence</th>\n",
       "      <th>Efforts</th>\n",
       "    </tr>\n",
       "  </thead>\n",
       "  <tbody>\n",
       "    <tr>\n",
       "      <th>0</th>\n",
       "      <td>Добавить два новых канала привлечения трафика,...</td>\n",
       "      <td>3</td>\n",
       "      <td>10</td>\n",
       "      <td>8</td>\n",
       "      <td>6</td>\n",
       "    </tr>\n",
       "    <tr>\n",
       "      <th>1</th>\n",
       "      <td>Запустить собственную службу доставки, что сок...</td>\n",
       "      <td>2</td>\n",
       "      <td>5</td>\n",
       "      <td>4</td>\n",
       "      <td>10</td>\n",
       "    </tr>\n",
       "    <tr>\n",
       "      <th>2</th>\n",
       "      <td>Добавить блоки рекомендаций товаров на сайт ин...</td>\n",
       "      <td>8</td>\n",
       "      <td>3</td>\n",
       "      <td>7</td>\n",
       "      <td>3</td>\n",
       "    </tr>\n",
       "    <tr>\n",
       "      <th>3</th>\n",
       "      <td>Изменить структура категорий, что увеличит кон...</td>\n",
       "      <td>8</td>\n",
       "      <td>3</td>\n",
       "      <td>3</td>\n",
       "      <td>8</td>\n",
       "    </tr>\n",
       "    <tr>\n",
       "      <th>4</th>\n",
       "      <td>Изменить цвет фона главной страницы, чтобы уве...</td>\n",
       "      <td>3</td>\n",
       "      <td>1</td>\n",
       "      <td>1</td>\n",
       "      <td>1</td>\n",
       "    </tr>\n",
       "    <tr>\n",
       "      <th>5</th>\n",
       "      <td>Добавить страницу отзывов клиентов о магазине,...</td>\n",
       "      <td>3</td>\n",
       "      <td>2</td>\n",
       "      <td>2</td>\n",
       "      <td>3</td>\n",
       "    </tr>\n",
       "    <tr>\n",
       "      <th>6</th>\n",
       "      <td>Показать на главной странице баннеры с актуаль...</td>\n",
       "      <td>5</td>\n",
       "      <td>3</td>\n",
       "      <td>8</td>\n",
       "      <td>3</td>\n",
       "    </tr>\n",
       "    <tr>\n",
       "      <th>7</th>\n",
       "      <td>Добавить форму подписки на все основные страни...</td>\n",
       "      <td>10</td>\n",
       "      <td>7</td>\n",
       "      <td>8</td>\n",
       "      <td>5</td>\n",
       "    </tr>\n",
       "    <tr>\n",
       "      <th>8</th>\n",
       "      <td>Запустить акцию, дающую скидку на товар в день...</td>\n",
       "      <td>1</td>\n",
       "      <td>9</td>\n",
       "      <td>9</td>\n",
       "      <td>5</td>\n",
       "    </tr>\n",
       "  </tbody>\n",
       "</table>\n",
       "</div>"
      ],
      "text/plain": [
       "                                          Hypothesis  Reach  Impact  \\\n",
       "0  Добавить два новых канала привлечения трафика,...      3      10   \n",
       "1  Запустить собственную службу доставки, что сок...      2       5   \n",
       "2  Добавить блоки рекомендаций товаров на сайт ин...      8       3   \n",
       "3  Изменить структура категорий, что увеличит кон...      8       3   \n",
       "4  Изменить цвет фона главной страницы, чтобы уве...      3       1   \n",
       "5  Добавить страницу отзывов клиентов о магазине,...      3       2   \n",
       "6  Показать на главной странице баннеры с актуаль...      5       3   \n",
       "7  Добавить форму подписки на все основные страни...     10       7   \n",
       "8  Запустить акцию, дающую скидку на товар в день...      1       9   \n",
       "\n",
       "   Confidence  Efforts  \n",
       "0           8        6  \n",
       "1           4       10  \n",
       "2           7        3  \n",
       "3           3        8  \n",
       "4           1        1  \n",
       "5           2        3  \n",
       "6           8        3  \n",
       "7           8        5  \n",
       "8           9        5  "
      ]
     },
     "metadata": {},
     "output_type": "display_data"
    }
   ],
   "source": [
    "# изучим таблицу с гипотезами\n",
    "\n",
    "display(hypothesis)"
   ]
  },
  {
   "cell_type": "markdown",
   "id": "39d9edda",
   "metadata": {},
   "source": [
    "*Описание:*\n",
    "\n",
    "    Hypothesis — краткое описание гипотезы;\n",
    "    Reach — охват пользователей по 10-балльной шкале;\n",
    "    Impact — влияние на пользователей по 10-балльной шкале;\n",
    "    Confidence — уверенность в гипотезе по 10-балльной шкале;\n",
    "    Efforts — затраты ресурсов на проверку гипотезы по 10-балльной шкале. Чем больше значение Efforts, тем дороже проверка гипотезы."
   ]
  },
  {
   "cell_type": "code",
   "execution_count": 4,
   "id": "0db79272",
   "metadata": {},
   "outputs": [],
   "source": [
    "# приведём столбцы к нижнему регистру для удобства\n",
    "\n",
    "hypothesis.columns = [x.lower() for x in hypothesis.columns.values]"
   ]
  },
  {
   "cell_type": "code",
   "execution_count": 5,
   "id": "a78a6608",
   "metadata": {},
   "outputs": [],
   "source": [
    "# расчитаем ICE для гипотез и добавим соответствующий столбец\n",
    "hypothesis['ICE'] = (\n",
    "     (hypothesis['impact'] * hypothesis['confidence']) /\n",
    "    hypothesis['efforts']\n",
    ")"
   ]
  },
  {
   "cell_type": "code",
   "execution_count": 6,
   "id": "393e6dcb",
   "metadata": {},
   "outputs": [
    {
     "data": {
      "text/html": [
       "<div>\n",
       "<style scoped>\n",
       "    .dataframe tbody tr th:only-of-type {\n",
       "        vertical-align: middle;\n",
       "    }\n",
       "\n",
       "    .dataframe tbody tr th {\n",
       "        vertical-align: top;\n",
       "    }\n",
       "\n",
       "    .dataframe thead th {\n",
       "        text-align: right;\n",
       "    }\n",
       "</style>\n",
       "<table border=\"1\" class=\"dataframe\">\n",
       "  <thead>\n",
       "    <tr style=\"text-align: right;\">\n",
       "      <th></th>\n",
       "      <th>hypothesis</th>\n",
       "      <th>reach</th>\n",
       "      <th>impact</th>\n",
       "      <th>confidence</th>\n",
       "      <th>efforts</th>\n",
       "      <th>ICE</th>\n",
       "    </tr>\n",
       "  </thead>\n",
       "  <tbody>\n",
       "    <tr>\n",
       "      <th>8</th>\n",
       "      <td>Запустить акцию, дающую скидку на товар в день рождения</td>\n",
       "      <td>1</td>\n",
       "      <td>9</td>\n",
       "      <td>9</td>\n",
       "      <td>5</td>\n",
       "      <td>16.200000</td>\n",
       "    </tr>\n",
       "    <tr>\n",
       "      <th>0</th>\n",
       "      <td>Добавить два новых канала привлечения трафика, что позволит привлекать на 30% больше пользователей</td>\n",
       "      <td>3</td>\n",
       "      <td>10</td>\n",
       "      <td>8</td>\n",
       "      <td>6</td>\n",
       "      <td>13.333333</td>\n",
       "    </tr>\n",
       "    <tr>\n",
       "      <th>7</th>\n",
       "      <td>Добавить форму подписки на все основные страницы, чтобы собрать базу клиентов для email-рассылок</td>\n",
       "      <td>10</td>\n",
       "      <td>7</td>\n",
       "      <td>8</td>\n",
       "      <td>5</td>\n",
       "      <td>11.200000</td>\n",
       "    </tr>\n",
       "    <tr>\n",
       "      <th>6</th>\n",
       "      <td>Показать на главной странице баннеры с актуальными акциями и распродажами, чтобы увеличить конверсию</td>\n",
       "      <td>5</td>\n",
       "      <td>3</td>\n",
       "      <td>8</td>\n",
       "      <td>3</td>\n",
       "      <td>8.000000</td>\n",
       "    </tr>\n",
       "    <tr>\n",
       "      <th>2</th>\n",
       "      <td>Добавить блоки рекомендаций товаров на сайт интернет магазина, чтобы повысить конверсию и средний чек заказа</td>\n",
       "      <td>8</td>\n",
       "      <td>3</td>\n",
       "      <td>7</td>\n",
       "      <td>3</td>\n",
       "      <td>7.000000</td>\n",
       "    </tr>\n",
       "    <tr>\n",
       "      <th>1</th>\n",
       "      <td>Запустить собственную службу доставки, что сократит срок доставки заказов</td>\n",
       "      <td>2</td>\n",
       "      <td>5</td>\n",
       "      <td>4</td>\n",
       "      <td>10</td>\n",
       "      <td>2.000000</td>\n",
       "    </tr>\n",
       "    <tr>\n",
       "      <th>5</th>\n",
       "      <td>Добавить страницу отзывов клиентов о магазине, что позволит увеличить количество заказов</td>\n",
       "      <td>3</td>\n",
       "      <td>2</td>\n",
       "      <td>2</td>\n",
       "      <td>3</td>\n",
       "      <td>1.333333</td>\n",
       "    </tr>\n",
       "    <tr>\n",
       "      <th>3</th>\n",
       "      <td>Изменить структура категорий, что увеличит конверсию, т.к. пользователи быстрее найдут нужный товар</td>\n",
       "      <td>8</td>\n",
       "      <td>3</td>\n",
       "      <td>3</td>\n",
       "      <td>8</td>\n",
       "      <td>1.125000</td>\n",
       "    </tr>\n",
       "    <tr>\n",
       "      <th>4</th>\n",
       "      <td>Изменить цвет фона главной страницы, чтобы увеличить вовлеченность пользователей</td>\n",
       "      <td>3</td>\n",
       "      <td>1</td>\n",
       "      <td>1</td>\n",
       "      <td>1</td>\n",
       "      <td>1.000000</td>\n",
       "    </tr>\n",
       "  </tbody>\n",
       "</table>\n",
       "</div>"
      ],
      "text/plain": [
       "                                                                                                     hypothesis  \\\n",
       "8                                                       Запустить акцию, дающую скидку на товар в день рождения   \n",
       "0            Добавить два новых канала привлечения трафика, что позволит привлекать на 30% больше пользователей   \n",
       "7              Добавить форму подписки на все основные страницы, чтобы собрать базу клиентов для email-рассылок   \n",
       "6          Показать на главной странице баннеры с актуальными акциями и распродажами, чтобы увеличить конверсию   \n",
       "2  Добавить блоки рекомендаций товаров на сайт интернет магазина, чтобы повысить конверсию и средний чек заказа   \n",
       "1                                     Запустить собственную службу доставки, что сократит срок доставки заказов   \n",
       "5                      Добавить страницу отзывов клиентов о магазине, что позволит увеличить количество заказов   \n",
       "3           Изменить структура категорий, что увеличит конверсию, т.к. пользователи быстрее найдут нужный товар   \n",
       "4                              Изменить цвет фона главной страницы, чтобы увеличить вовлеченность пользователей   \n",
       "\n",
       "   reach  impact  confidence  efforts        ICE  \n",
       "8      1       9           9        5  16.200000  \n",
       "0      3      10           8        6  13.333333  \n",
       "7     10       7           8        5  11.200000  \n",
       "6      5       3           8        3   8.000000  \n",
       "2      8       3           7        3   7.000000  \n",
       "1      2       5           4       10   2.000000  \n",
       "5      3       2           2        3   1.333333  \n",
       "3      8       3           3        8   1.125000  \n",
       "4      3       1           1        1   1.000000  "
      ]
     },
     "metadata": {},
     "output_type": "display_data"
    }
   ],
   "source": [
    "# отсортируем по убыванию приоритета и выведем гипотезы\n",
    "\n",
    "pd.options.display.max_colwidth = 210\n",
    "\n",
    "display(hypothesis.sort_values(by='ICE', ascending=False))"
   ]
  },
  {
   "cell_type": "code",
   "execution_count": 7,
   "id": "09f1aba8",
   "metadata": {},
   "outputs": [],
   "source": [
    "# расчитаем RICE для гипотез и добавим соответствующий столбец\n",
    "\n",
    "hypothesis['RICE'] = (\n",
    "     (hypothesis['reach'] * hypothesis['impact'] * hypothesis['confidence']) /\n",
    "    hypothesis['efforts']\n",
    ")"
   ]
  },
  {
   "cell_type": "code",
   "execution_count": 8,
   "id": "fa9f1384",
   "metadata": {},
   "outputs": [
    {
     "data": {
      "text/html": [
       "<div>\n",
       "<style scoped>\n",
       "    .dataframe tbody tr th:only-of-type {\n",
       "        vertical-align: middle;\n",
       "    }\n",
       "\n",
       "    .dataframe tbody tr th {\n",
       "        vertical-align: top;\n",
       "    }\n",
       "\n",
       "    .dataframe thead th {\n",
       "        text-align: right;\n",
       "    }\n",
       "</style>\n",
       "<table border=\"1\" class=\"dataframe\">\n",
       "  <thead>\n",
       "    <tr style=\"text-align: right;\">\n",
       "      <th></th>\n",
       "      <th>hypothesis</th>\n",
       "      <th>reach</th>\n",
       "      <th>impact</th>\n",
       "      <th>confidence</th>\n",
       "      <th>efforts</th>\n",
       "      <th>ICE</th>\n",
       "      <th>RICE</th>\n",
       "    </tr>\n",
       "  </thead>\n",
       "  <tbody>\n",
       "    <tr>\n",
       "      <th>7</th>\n",
       "      <td>Добавить форму подписки на все основные страницы, чтобы собрать базу клиентов для email-рассылок</td>\n",
       "      <td>10</td>\n",
       "      <td>7</td>\n",
       "      <td>8</td>\n",
       "      <td>5</td>\n",
       "      <td>11.200000</td>\n",
       "      <td>112.0</td>\n",
       "    </tr>\n",
       "    <tr>\n",
       "      <th>2</th>\n",
       "      <td>Добавить блоки рекомендаций товаров на сайт интернет магазина, чтобы повысить конверсию и средний чек заказа</td>\n",
       "      <td>8</td>\n",
       "      <td>3</td>\n",
       "      <td>7</td>\n",
       "      <td>3</td>\n",
       "      <td>7.000000</td>\n",
       "      <td>56.0</td>\n",
       "    </tr>\n",
       "    <tr>\n",
       "      <th>0</th>\n",
       "      <td>Добавить два новых канала привлечения трафика, что позволит привлекать на 30% больше пользователей</td>\n",
       "      <td>3</td>\n",
       "      <td>10</td>\n",
       "      <td>8</td>\n",
       "      <td>6</td>\n",
       "      <td>13.333333</td>\n",
       "      <td>40.0</td>\n",
       "    </tr>\n",
       "    <tr>\n",
       "      <th>6</th>\n",
       "      <td>Показать на главной странице баннеры с актуальными акциями и распродажами, чтобы увеличить конверсию</td>\n",
       "      <td>5</td>\n",
       "      <td>3</td>\n",
       "      <td>8</td>\n",
       "      <td>3</td>\n",
       "      <td>8.000000</td>\n",
       "      <td>40.0</td>\n",
       "    </tr>\n",
       "    <tr>\n",
       "      <th>8</th>\n",
       "      <td>Запустить акцию, дающую скидку на товар в день рождения</td>\n",
       "      <td>1</td>\n",
       "      <td>9</td>\n",
       "      <td>9</td>\n",
       "      <td>5</td>\n",
       "      <td>16.200000</td>\n",
       "      <td>16.2</td>\n",
       "    </tr>\n",
       "    <tr>\n",
       "      <th>3</th>\n",
       "      <td>Изменить структура категорий, что увеличит конверсию, т.к. пользователи быстрее найдут нужный товар</td>\n",
       "      <td>8</td>\n",
       "      <td>3</td>\n",
       "      <td>3</td>\n",
       "      <td>8</td>\n",
       "      <td>1.125000</td>\n",
       "      <td>9.0</td>\n",
       "    </tr>\n",
       "    <tr>\n",
       "      <th>1</th>\n",
       "      <td>Запустить собственную службу доставки, что сократит срок доставки заказов</td>\n",
       "      <td>2</td>\n",
       "      <td>5</td>\n",
       "      <td>4</td>\n",
       "      <td>10</td>\n",
       "      <td>2.000000</td>\n",
       "      <td>4.0</td>\n",
       "    </tr>\n",
       "    <tr>\n",
       "      <th>5</th>\n",
       "      <td>Добавить страницу отзывов клиентов о магазине, что позволит увеличить количество заказов</td>\n",
       "      <td>3</td>\n",
       "      <td>2</td>\n",
       "      <td>2</td>\n",
       "      <td>3</td>\n",
       "      <td>1.333333</td>\n",
       "      <td>4.0</td>\n",
       "    </tr>\n",
       "    <tr>\n",
       "      <th>4</th>\n",
       "      <td>Изменить цвет фона главной страницы, чтобы увеличить вовлеченность пользователей</td>\n",
       "      <td>3</td>\n",
       "      <td>1</td>\n",
       "      <td>1</td>\n",
       "      <td>1</td>\n",
       "      <td>1.000000</td>\n",
       "      <td>3.0</td>\n",
       "    </tr>\n",
       "  </tbody>\n",
       "</table>\n",
       "</div>"
      ],
      "text/plain": [
       "                                                                                                     hypothesis  \\\n",
       "7              Добавить форму подписки на все основные страницы, чтобы собрать базу клиентов для email-рассылок   \n",
       "2  Добавить блоки рекомендаций товаров на сайт интернет магазина, чтобы повысить конверсию и средний чек заказа   \n",
       "0            Добавить два новых канала привлечения трафика, что позволит привлекать на 30% больше пользователей   \n",
       "6          Показать на главной странице баннеры с актуальными акциями и распродажами, чтобы увеличить конверсию   \n",
       "8                                                       Запустить акцию, дающую скидку на товар в день рождения   \n",
       "3           Изменить структура категорий, что увеличит конверсию, т.к. пользователи быстрее найдут нужный товар   \n",
       "1                                     Запустить собственную службу доставки, что сократит срок доставки заказов   \n",
       "5                      Добавить страницу отзывов клиентов о магазине, что позволит увеличить количество заказов   \n",
       "4                              Изменить цвет фона главной страницы, чтобы увеличить вовлеченность пользователей   \n",
       "\n",
       "   reach  impact  confidence  efforts        ICE   RICE  \n",
       "7     10       7           8        5  11.200000  112.0  \n",
       "2      8       3           7        3   7.000000   56.0  \n",
       "0      3      10           8        6  13.333333   40.0  \n",
       "6      5       3           8        3   8.000000   40.0  \n",
       "8      1       9           9        5  16.200000   16.2  \n",
       "3      8       3           3        8   1.125000    9.0  \n",
       "1      2       5           4       10   2.000000    4.0  \n",
       "5      3       2           2        3   1.333333    4.0  \n",
       "4      3       1           1        1   1.000000    3.0  "
      ]
     },
     "metadata": {},
     "output_type": "display_data"
    }
   ],
   "source": [
    "# отсортируем по убыванию приоритета и выведем гипотезы\n",
    "\n",
    "display(hypothesis.sort_values(by='RICE', ascending=False))"
   ]
  },
  {
   "cell_type": "markdown",
   "id": "500a11b8",
   "metadata": {},
   "source": [
    "<a id='вывод1'>***Вывод по первой части:***</a>\n",
    "- Изменения на сайте влияют непосредственно на реального посетителя, а реклама - на потенциального посетителя сайта\n",
    "- При применении \"RICE\" вместо \"ICE\" на первое место вышли гипотезы которые работают с посетителями сайта. Гипотезы же рекламно-маркетнговые ушли ниже. Это связанно с учётом показателя REACH, который как раз говорит о том, сколько пользователей заденут изменения."
   ]
  },
  {
   "cell_type": "markdown",
   "id": "264bb70b",
   "metadata": {},
   "source": [
    "### <a id='часть2'>Часть 2. Анализ A/B теста</a>"
   ]
  },
  {
   "cell_type": "markdown",
   "id": "1706133f",
   "metadata": {},
   "source": [
    "<a id='подготовка_данных'>**Подготовим данные для анализа и дальнейшей работы**</a>\n",
    "\n",
    "Подготовим данные из таблиц 'orders' и 'visitors'\n",
    "\n",
    "Начнём с таблицы 'orders'"
   ]
  },
  {
   "cell_type": "code",
   "execution_count": 9,
   "id": "5ac97f8e",
   "metadata": {},
   "outputs": [
    {
     "name": "stdout",
     "output_type": "stream",
     "text": [
      "<class 'pandas.core.frame.DataFrame'>\n",
      "RangeIndex: 1197 entries, 0 to 1196\n",
      "Data columns (total 5 columns):\n",
      " #   Column         Non-Null Count  Dtype \n",
      "---  ------         --------------  ----- \n",
      " 0   transactionId  1197 non-null   int64 \n",
      " 1   visitorId      1197 non-null   int64 \n",
      " 2   date           1197 non-null   object\n",
      " 3   revenue        1197 non-null   int64 \n",
      " 4   group          1197 non-null   object\n",
      "dtypes: int64(3), object(2)\n",
      "memory usage: 46.9+ KB\n"
     ]
    }
   ],
   "source": [
    "# выведем информаци о 'orders'\n",
    "\n",
    "orders.info()"
   ]
  },
  {
   "cell_type": "code",
   "execution_count": 10,
   "id": "e555836b",
   "metadata": {},
   "outputs": [],
   "source": [
    "# переименуем некоторые столбцы\n",
    "\n",
    "orders.columns = ['transaction_id', 'visitor_id', 'date', 'revenue', 'group']"
   ]
  },
  {
   "cell_type": "code",
   "execution_count": 11,
   "id": "f881b626",
   "metadata": {},
   "outputs": [],
   "source": [
    "# изменим тип данных столбца 'date'\n",
    "\n",
    "orders['date'] = orders['date'].map(\n",
    "    lambda x: dt.datetime.strptime(x, '%Y-%m-%d'))"
   ]
  },
  {
   "cell_type": "code",
   "execution_count": 12,
   "id": "bbb34eff",
   "metadata": {},
   "outputs": [
    {
     "data": {
      "text/plain": [
       "(1197, 5)"
      ]
     },
     "execution_count": 12,
     "metadata": {},
     "output_type": "execute_result"
    }
   ],
   "source": [
    "orders.shape"
   ]
  },
  {
   "cell_type": "code",
   "execution_count": 13,
   "id": "fd20dc01",
   "metadata": {},
   "outputs": [
    {
     "data": {
      "text/plain": [
       "(1197, 5)"
      ]
     },
     "execution_count": 13,
     "metadata": {},
     "output_type": "execute_result"
    }
   ],
   "source": [
    "# удалим явные дубликаты\n",
    "\n",
    "orders = orders.drop_duplicates()\n",
    "\n",
    "orders.shape"
   ]
  },
  {
   "cell_type": "code",
   "execution_count": 14,
   "id": "8462e76e",
   "metadata": {},
   "outputs": [
    {
     "name": "stdout",
     "output_type": "stream",
     "text": [
      "2019-08-01 00:00:00\n",
      "2019-08-31 00:00:00\n"
     ]
    }
   ],
   "source": [
    "# проверим столбец с датами\n",
    "\n",
    "print(orders['date'].min())\n",
    "print(orders['date'].max())"
   ]
  },
  {
   "cell_type": "code",
   "execution_count": 15,
   "id": "71b3e6f6",
   "metadata": {},
   "outputs": [
    {
     "data": {
      "text/plain": [
       "count    1.197000e+03\n",
       "mean     8.348006e+03\n",
       "std      3.919113e+04\n",
       "min      5.000000e+01\n",
       "25%      1.220000e+03\n",
       "50%      2.978000e+03\n",
       "75%      8.290000e+03\n",
       "max      1.294500e+06\n",
       "Name: revenue, dtype: float64"
      ]
     },
     "execution_count": 15,
     "metadata": {},
     "output_type": "execute_result"
    }
   ],
   "source": [
    "# проверим значения в столбце 'revenue'\n",
    "\n",
    "orders['revenue'].describe()"
   ]
  },
  {
   "cell_type": "markdown",
   "id": "bcfc308c",
   "metadata": {},
   "source": [
    "Видим что есть аномальное значения:\n",
    "- медианное значение заказа около 3 тысяч\n",
    "- минимальное значени заказа в 50 руб. можем считать аномально низким\n",
    "- максимальное значение 1.2 млн - аномально высокое\n",
    "\n",
    "Такие аномальные значения могут вносить искажения в дальнейшем анализе. Поэтому их надо удалить. Посмотрим подробнее на аномальные значения"
   ]
  },
  {
   "cell_type": "code",
   "execution_count": 16,
   "id": "69519084",
   "metadata": {},
   "outputs": [
    {
     "name": "stdout",
     "output_type": "stream",
     "text": [
      "[18168.  28000.  58233.2]\n"
     ]
    }
   ],
   "source": [
    "# посчитаем перцентили для определения как распределены суммы заказов\n",
    "\n",
    "print(np.percentile(orders['revenue'], [90, 95, 99]))"
   ]
  },
  {
   "cell_type": "markdown",
   "id": "7d836e96",
   "metadata": {},
   "source": [
    "Видим что у 1% пользователей сумма заказа превышает 58 тыс. руб.\n",
    "\n",
    "Построим график, указав диапозон от 0 до 58233 для определения границы по которой будем отсекать данные"
   ]
  },
  {
   "cell_type": "code",
   "execution_count": 17,
   "id": "75dee912",
   "metadata": {},
   "outputs": [
    {
     "data": {
      "text/plain": [
       "<AxesSubplot:>"
      ]
     },
     "execution_count": 17,
     "metadata": {},
     "output_type": "execute_result"
    },
    {
     "data": {
      "image/png": "[encoded data removed]",
      "text/plain": [
       "<Figure size 1500x500 with 1 Axes>"
      ]
     },
     "metadata": {},
     "output_type": "display_data"
    }
   ],
   "source": [
    "orders['revenue'].hist(bins=100, figsize=(15, 5), range = (0, 58233))"
   ]
  },
  {
   "cell_type": "markdown",
   "id": "4f8e45b1",
   "metadata": {},
   "source": [
    "Из графика видим что основная часть заказов стоимостью до 40000\n",
    "\n",
    "Поэтому заказы со значением выше можем отсечь"
   ]
  },
  {
   "cell_type": "code",
   "execution_count": 18,
   "id": "055491df",
   "metadata": {},
   "outputs": [],
   "source": [
    "# удаляем значения по установленной границе в стоимости заказа 40000 рублей\n",
    "\n",
    "orders = orders[orders['revenue'] < 40000]"
   ]
  },
  {
   "cell_type": "markdown",
   "id": "9e151f8e",
   "metadata": {},
   "source": [
    "Заказы с аномально низкой стоимостью не так сильно влияют на результат. Поэтому их удалять не будем"
   ]
  },
  {
   "cell_type": "code",
   "execution_count": 19,
   "id": "30ccc295",
   "metadata": {},
   "outputs": [
    {
     "data": {
      "text/plain": [
       "array(['B', 'A'], dtype=object)"
      ]
     },
     "execution_count": 19,
     "metadata": {},
     "output_type": "execute_result"
    }
   ],
   "source": [
    "# посмотрим данные столбца 'group'\n",
    "\n",
    "orders['group'].unique()"
   ]
  },
  {
   "cell_type": "markdown",
   "id": "830f469a",
   "metadata": {},
   "source": [
    "Посмотрели все столбцы, где нужно поменяли тип данных, удалили аномальные значения.\n",
    "\n",
    "Теперь переходим к таблице 'visitors'"
   ]
  },
  {
   "cell_type": "code",
   "execution_count": 20,
   "id": "6cd729e8",
   "metadata": {},
   "outputs": [
    {
     "name": "stdout",
     "output_type": "stream",
     "text": [
      "<class 'pandas.core.frame.DataFrame'>\n",
      "RangeIndex: 62 entries, 0 to 61\n",
      "Data columns (total 3 columns):\n",
      " #   Column    Non-Null Count  Dtype \n",
      "---  ------    --------------  ----- \n",
      " 0   date      62 non-null     object\n",
      " 1   group     62 non-null     object\n",
      " 2   visitors  62 non-null     int64 \n",
      "dtypes: int64(1), object(2)\n",
      "memory usage: 1.6+ KB\n"
     ]
    }
   ],
   "source": [
    "# посмотрим информацию о таблице\n",
    "\n",
    "visitors.info()"
   ]
  },
  {
   "cell_type": "code",
   "execution_count": 21,
   "id": "cc1451a6",
   "metadata": {},
   "outputs": [
    {
     "data": {
      "text/plain": [
       "(62, 3)"
      ]
     },
     "execution_count": 21,
     "metadata": {},
     "output_type": "execute_result"
    }
   ],
   "source": [
    "# удалим явные дубликаты\n",
    "\n",
    "visitors = visitors.drop_duplicates()\n",
    "\n",
    "visitors.shape"
   ]
  },
  {
   "cell_type": "code",
   "execution_count": 22,
   "id": "ca83e252",
   "metadata": {},
   "outputs": [],
   "source": [
    "# изменим тип данных столбца 'date'\n",
    "\n",
    "visitors['date'] = visitors['date'].map(\n",
    "    lambda x: dt.datetime.strptime(x, '%Y-%m-%d'))"
   ]
  },
  {
   "cell_type": "code",
   "execution_count": 23,
   "id": "2c8ec40a",
   "metadata": {},
   "outputs": [
    {
     "data": {
      "text/plain": [
       "array(['A', 'B'], dtype=object)"
      ]
     },
     "execution_count": 23,
     "metadata": {},
     "output_type": "execute_result"
    }
   ],
   "source": [
    "# проверим столбец 'group'\n",
    "\n",
    "visitors['group'].unique()"
   ]
  },
  {
   "cell_type": "code",
   "execution_count": 24,
   "id": "efc2a4e0",
   "metadata": {},
   "outputs": [
    {
     "data": {
      "text/html": [
       "<div>\n",
       "<style scoped>\n",
       "    .dataframe tbody tr th:only-of-type {\n",
       "        vertical-align: middle;\n",
       "    }\n",
       "\n",
       "    .dataframe tbody tr th {\n",
       "        vertical-align: top;\n",
       "    }\n",
       "\n",
       "    .dataframe thead th {\n",
       "        text-align: right;\n",
       "    }\n",
       "</style>\n",
       "<table border=\"1\" class=\"dataframe\">\n",
       "  <thead>\n",
       "    <tr style=\"text-align: right;\">\n",
       "      <th></th>\n",
       "      <th>visitors</th>\n",
       "    </tr>\n",
       "  </thead>\n",
       "  <tbody>\n",
       "    <tr>\n",
       "      <th>count</th>\n",
       "      <td>62.000000</td>\n",
       "    </tr>\n",
       "    <tr>\n",
       "      <th>mean</th>\n",
       "      <td>607.290323</td>\n",
       "    </tr>\n",
       "    <tr>\n",
       "      <th>std</th>\n",
       "      <td>114.400560</td>\n",
       "    </tr>\n",
       "    <tr>\n",
       "      <th>min</th>\n",
       "      <td>361.000000</td>\n",
       "    </tr>\n",
       "    <tr>\n",
       "      <th>25%</th>\n",
       "      <td>534.000000</td>\n",
       "    </tr>\n",
       "    <tr>\n",
       "      <th>50%</th>\n",
       "      <td>624.500000</td>\n",
       "    </tr>\n",
       "    <tr>\n",
       "      <th>75%</th>\n",
       "      <td>710.500000</td>\n",
       "    </tr>\n",
       "    <tr>\n",
       "      <th>max</th>\n",
       "      <td>770.000000</td>\n",
       "    </tr>\n",
       "  </tbody>\n",
       "</table>\n",
       "</div>"
      ],
      "text/plain": [
       "         visitors\n",
       "count   62.000000\n",
       "mean   607.290323\n",
       "std    114.400560\n",
       "min    361.000000\n",
       "25%    534.000000\n",
       "50%    624.500000\n",
       "75%    710.500000\n",
       "max    770.000000"
      ]
     },
     "execution_count": 24,
     "metadata": {},
     "output_type": "execute_result"
    }
   ],
   "source": [
    "# посмотрим значения в столбце 'visitors'\n",
    "\n",
    "visitors.describe()"
   ]
  },
  {
   "cell_type": "markdown",
   "id": "6c201311",
   "metadata": {},
   "source": [
    "Проверили данные в таблице 'visitors' и привели данные к нужному типу"
   ]
  },
  {
   "cell_type": "code",
   "execution_count": 25,
   "id": "92c3efe5",
   "metadata": {},
   "outputs": [
    {
     "data": {
      "text/plain": [
       "56"
      ]
     },
     "execution_count": 25,
     "metadata": {},
     "output_type": "execute_result"
    }
   ],
   "source": [
    "# проверим сколько пользователей попали в обе группы\n",
    "\n",
    "len(np.intersect1d(orders.query('group == \"A\"')['visitor_id'], orders.query(\n",
    "'group == \"B\"')['visitor_id'], assume_unique = False))"
   ]
  },
  {
   "cell_type": "code",
   "execution_count": 26,
   "id": "ef9ccd68",
   "metadata": {},
   "outputs": [
    {
     "data": {
      "text/plain": [
       "0.04794520547945205"
      ]
     },
     "execution_count": 26,
     "metadata": {},
     "output_type": "execute_result"
    }
   ],
   "source": [
    "# посмотрим какую долю от общего числа заказов составляют задублировавшиеся пользователи\n",
    "\n",
    "len(np.intersect1d(orders.query('group == \"A\"')['visitor_id'], orders.query(\n",
    "'group == \"B\"')['visitor_id'], assume_unique = False)) / len(orders)"
   ]
  },
  {
   "cell_type": "markdown",
   "id": "25887d86",
   "metadata": {},
   "source": [
    "Количество дубликатов составило 4%, что не так много и на данном этапе можно принебречь, чтоб не потерять другие данные.\n",
    "\n",
    "Вероятно это была техническая ошибка сбора данных."
   ]
  },
  {
   "cell_type": "markdown",
   "id": "a1ffd36d",
   "metadata": {},
   "source": [
    "### <a id='2.1'>2.1. Построим график кумулятивной выручки по группам</a>"
   ]
  },
  {
   "cell_type": "code",
   "execution_count": 27,
   "id": "27ec64e6",
   "metadata": {},
   "outputs": [],
   "source": [
    "# создадим массив уникальных пар дат и групп\n",
    "\n",
    "datesGroups = orders[['date', 'group']].drop_duplicates()"
   ]
  },
  {
   "cell_type": "code",
   "execution_count": 28,
   "id": "cb132ef6",
   "metadata": {},
   "outputs": [],
   "source": [
    "# получаем агрегированные кумулятивные по дням данные о заказах\n",
    "\n",
    "ordersAggregated = datesGroups.apply(\n",
    "    lambda x: orders[\n",
    "        np.logical_and(\n",
    "            orders['date'] <= x['date'], orders['group'] == x['group']\n",
    "        )\n",
    "    ].agg(\n",
    "        {\n",
    "            'date': 'max',\n",
    "            'group': 'max',\n",
    "            'transaction_id': 'nunique',\n",
    "            'visitor_id': 'nunique',\n",
    "            'revenue': 'sum',\n",
    "        }\n",
    "    ),\n",
    "    axis=1,\n",
    ").sort_values(by=['date', 'group'])"
   ]
  },
  {
   "cell_type": "code",
   "execution_count": 29,
   "id": "4908a10c",
   "metadata": {},
   "outputs": [],
   "source": [
    "# получаем агрегированные кумулятивные по дням данные о посетителях интернет-магазина \n",
    "\n",
    "visitorsAggregated = datesGroups.apply(\n",
    "    lambda x: visitors[\n",
    "        np.logical_and(\n",
    "            visitors['date'] <= x['date'], visitors['group'] == x['group']\n",
    "        )\n",
    "    ].agg({'date': 'max', 'group': 'max', 'visitors': 'sum'}),\n",
    "    axis=1,\n",
    ").sort_values(by=['date', 'group'])"
   ]
  },
  {
   "cell_type": "code",
   "execution_count": 30,
   "id": "40826e85",
   "metadata": {},
   "outputs": [],
   "source": [
    "# объединяем кумулятивные данные в одной таблице\n",
    "\n",
    "cumulativeData = ordersAggregated.merge(\n",
    "    visitorsAggregated, left_on=['date', 'group'], right_on=['date', 'group']\n",
    ")\n",
    "cumulativeData.columns = [\n",
    "    'date',\n",
    "    'group',\n",
    "    'orders',\n",
    "    'buyers',\n",
    "    'revenue',\n",
    "    'visitors',\n",
    "]"
   ]
  },
  {
   "cell_type": "code",
   "execution_count": 31,
   "id": "7aa40775",
   "metadata": {},
   "outputs": [],
   "source": [
    "# датафрейм с кумулятивным количеством заказов и кумулятивной выручкой по дням в группе А\n",
    "\n",
    "cumulativeRevenueA = cumulativeData[cumulativeData['group']=='A'][['date','revenue', 'orders', 'visitors']]"
   ]
  },
  {
   "cell_type": "code",
   "execution_count": 32,
   "id": "31b311e8",
   "metadata": {},
   "outputs": [],
   "source": [
    "# датафрейм с кумулятивным количеством заказов и кумулятивной выручкой по дням в группе B\n",
    "\n",
    "cumulativeRevenueB = cumulativeData[cumulativeData['group']=='B'][['date','revenue', 'orders', 'visitors']]"
   ]
  },
  {
   "cell_type": "code",
   "execution_count": 33,
   "id": "8c1ad343",
   "metadata": {},
   "outputs": [
    {
     "data": {
      "image/png": "[encoded data removed]",
      "text/plain": [
       "<Figure size 640x480 with 1 Axes>"
      ]
     },
     "metadata": {},
     "output_type": "display_data"
    }
   ],
   "source": [
    "# Строим график выручки группы А\n",
    "plt.plot(cumulativeRevenueA['date'], cumulativeRevenueA['revenue'], label='A')\n",
    "\n",
    "# Строим график выручки группы B\n",
    "plt.plot(cumulativeRevenueB['date'], cumulativeRevenueB['revenue'], label='B')\n",
    "\n",
    "plt.title('Кумулятивная выручка по группам')\n",
    "\n",
    "plt.xticks(rotation=70)\n",
    "\n",
    "plt.xlabel('Дата');\n",
    "plt.ylabel('Кумулятивная выручка')\n",
    "\n",
    "plt.legend()\n",
    "\n",
    "plt.show()"
   ]
  },
  {
   "cell_type": "markdown",
   "id": "60f6b5a4",
   "metadata": {},
   "source": [
    "***2.1. Промежуточный вывод:***\n",
    "\n",
    "В первые дни теста график 'B' вырвался в лидеры за счёт небольшого скачка и продолжил лидировать в течение всего тестового периода"
   ]
  },
  {
   "cell_type": "markdown",
   "id": "15879eb2",
   "metadata": {},
   "source": [
    "### <a id='2.2'>2.2. График кумулятивного среднего чека по группам</a>"
   ]
  },
  {
   "cell_type": "code",
   "execution_count": 34,
   "id": "7ebbb4c1",
   "metadata": {},
   "outputs": [
    {
     "data": {
      "image/png": "[encoded data removed]",
      "text/plain": [
       "<Figure size 640x480 with 1 Axes>"
      ]
     },
     "metadata": {},
     "output_type": "display_data"
    }
   ],
   "source": [
    "# для расчёта среднего чека\n",
    "# разделим кумулятивную выручку на кумулятивное число заказов\n",
    "\n",
    "plt.plot(cumulativeRevenueA['date'], cumulativeRevenueA['revenue']/cumulativeRevenueA['orders'], label='A')\n",
    "\n",
    "plt.plot(cumulativeRevenueB['date'], cumulativeRevenueB['revenue']/cumulativeRevenueB['orders'], label='B')\n",
    "\n",
    "plt.title('Средникй чек по группам')\n",
    "\n",
    "plt.xticks(rotation=70)\n",
    "\n",
    "plt.legend()\n",
    "\n",
    "plt.show()"
   ]
  },
  {
   "cell_type": "markdown",
   "id": "39b36ef6",
   "metadata": {},
   "source": [
    "***2.2. Промежуточный вывод:***\n",
    "\n",
    "- В первые дни для группы 'A' видно падение среднего чека с последующим повышением. Вероятно в начале теста было мало заказов и с небольшими суммами\n",
    "- Для группы 'B' наоборот виден резкий рост с последующим плавным понижением. Видимо были достаточно дорогие заказы\n",
    "- По итогам теста видно, что в группе 'B' средний чек выше чем в группе 'A' на протяжении всего теста"
   ]
  },
  {
   "cell_type": "markdown",
   "id": "8edf7af4",
   "metadata": {},
   "source": [
    "### <a id='2.3'>2.3. График относительного изменения кумулятивного среднего чека группы B к группе A</a>"
   ]
  },
  {
   "cell_type": "code",
   "execution_count": 35,
   "id": "a6ea6256",
   "metadata": {},
   "outputs": [
    {
     "data": {
      "image/png": "[encoded data removed]",
      "text/plain": [
       "<Figure size 640x480 with 1 Axes>"
      ]
     },
     "metadata": {},
     "output_type": "display_data"
    }
   ],
   "source": [
    "# собираем данные в одном датафрейме\n",
    "\n",
    "mergedCumulativeRevenue = cumulativeRevenueA.merge(cumulativeRevenueB, left_on='date', right_on='date', how='left', suffixes=['A', 'B'])\n",
    "\n",
    "plt.plot(mergedCumulativeRevenue['date'], (mergedCumulativeRevenue['revenueB']/mergedCumulativeRevenue['ordersB'])/(mergedCumulativeRevenue['revenueA']/mergedCumulativeRevenue['ordersA'])-1)\n",
    "\n",
    "plt.title('График изменения кумулятивного среднего чека группы B к группе A')\n",
    "\n",
    "plt.axhline(y=0, color='black', linestyle='--')\n",
    "\n",
    "plt.xticks(rotation=70)\n",
    "\n",
    "plt.show()"
   ]
  },
  {
   "cell_type": "markdown",
   "id": "882b0205",
   "metadata": {},
   "source": [
    "Мы рассматриваем кумулятивную выручку. В начале теста данные еще не успели \"накопиться\" и поэтому видны резкие скачки. С течением времени данных больше, скачки сглаживаются и можно видеть тенденцию графика"
   ]
  },
  {
   "cell_type": "markdown",
   "id": "a51f514e",
   "metadata": {},
   "source": [
    "***2.3. Промежуточный вывод:***\n",
    "\n",
    "- Средний чек в группе 'B' в первые дни был ниже чем в группе 'А', затем произошел скачок и спад\n",
    "- Средний чек на протяжении всего периода имеет колебания и делать какие-то окончательные выводы рано"
   ]
  },
  {
   "cell_type": "markdown",
   "id": "3f6d8c05",
   "metadata": {},
   "source": [
    "### <a id='2.4'>2.4. График кумулятивного среднего количества заказов на посетителя по группам</a>"
   ]
  },
  {
   "cell_type": "code",
   "execution_count": 36,
   "id": "14430b8c",
   "metadata": {},
   "outputs": [
    {
     "data": {
      "image/png": "[encoded data removed]",
      "text/plain": [
       "<Figure size 640x480 with 1 Axes>"
      ]
     },
     "metadata": {},
     "output_type": "display_data"
    }
   ],
   "source": [
    "# строим графики заказов \n",
    "\n",
    "plt.plot(cumulativeRevenueA['date'], cumulativeRevenueA['orders'] / cumulativeRevenueA['visitors'], label='A')\n",
    "\n",
    "plt.plot(cumulativeRevenueB['date'], cumulativeRevenueB['orders'] / cumulativeRevenueB['visitors'], label='B')\n",
    "\n",
    "plt.title('Среднее количество заказов на посетителя по группам')\n",
    "\n",
    "plt.legend()\n",
    "\n",
    "plt.xticks(rotation=70)\n",
    "\n",
    "plt.show()"
   ]
  },
  {
   "cell_type": "markdown",
   "id": "d49fca9c",
   "metadata": {},
   "source": [
    "***2.4. Промежуточные выводы:***\n",
    "\n",
    "- Количество заказов на старте тестирования было примерно одинаковым\n",
    "- Спустя несколько дней в группе 'B' количество заказов стало увеличиваться, а в группе А резко уменьшаться\n",
    "- К концу тестирования тенденция сохранилась и количество заказов на посетителя в группе 'B' больше чем в группе 'A'\n",
    "- Тем не меннее видно, что к концу теста график количество заказов снижается и в группе 'B'\n",
    "\n",
    "Группа 'B' показывает результаты лучше чем группа 'A'"
   ]
  },
  {
   "cell_type": "markdown",
   "id": "8e069478",
   "metadata": {},
   "source": [
    "### <a id='2.5'>2.5. График относительного изменения кумулятивного среднего количества заказов на посетителя группы B к группе A</a>"
   ]
  },
  {
   "cell_type": "code",
   "execution_count": 37,
   "id": "af6b87fe",
   "metadata": {},
   "outputs": [],
   "source": [
    "# считаем кумулятивную конверсию\n",
    "cumulativeData['conversion'] = cumulativeData['orders']/cumulativeData['visitors']\n",
    "\n",
    "# отделяем данные по группе A\n",
    "cumulativeDataA = cumulativeData[cumulativeData['group']=='A']\n",
    "\n",
    "# отделяем данные по группе B\n",
    "cumulativeDataB = cumulativeData[cumulativeData['group']=='B']"
   ]
  },
  {
   "cell_type": "code",
   "execution_count": 38,
   "id": "27694874",
   "metadata": {},
   "outputs": [
    {
     "data": {
      "image/png": "[encoded data removed]",
      "text/plain": [
       "<Figure size 640x480 with 1 Axes>"
      ]
     },
     "metadata": {},
     "output_type": "display_data"
    }
   ],
   "source": [
    "mergedCumulativeConversions = cumulativeDataA[['date','conversion']].merge(cumulativeDataB[['date','conversion']], left_on='date', right_on='date', how='left', suffixes=['A', 'B'])\n",
    "\n",
    "plt.plot(mergedCumulativeConversions['date'], mergedCumulativeConversions['conversionB']/mergedCumulativeConversions['conversionA']-1)\n",
    "\n",
    "plt.title('График изменения кумулятивного среднего числа заказов на посетителя группы B к группе A')\n",
    "\n",
    "plt.axhline(y=0, color='black', linestyle='--')\n",
    "plt.axhline(y=-0.1, color='grey', linestyle='--')\n",
    "\n",
    "plt.xticks(rotation=70)\n",
    "\n",
    "plt.show()"
   ]
  },
  {
   "cell_type": "markdown",
   "id": "695a683c",
   "metadata": {},
   "source": [
    "***2.5. Промежуточные выводы:***\n",
    "\n",
    "- В начале теста конверсия группы 'B' была ниже коневерсии группы 'A', но со временем стала повышаться и стала выше\n",
    "- Видны периодические колебания числа заказов"
   ]
  },
  {
   "cell_type": "markdown",
   "id": "d22401b2",
   "metadata": {},
   "source": [
    "### <a id='2.6'>2.6. Точечный график количества заказов по пользователям</a>"
   ]
  },
  {
   "cell_type": "code",
   "execution_count": 39,
   "id": "9ee98715",
   "metadata": {},
   "outputs": [],
   "source": [
    "# считаем количество заказов на одно пользователя\n",
    "\n",
    "ordersByUsers = (\n",
    "    orders.groupby('visitor_id', as_index=False)\n",
    "    .agg({'transaction_id': 'nunique'})\n",
    ")\n",
    "\n",
    "ordersByUsers.columns = ['userId', 'orders']"
   ]
  },
  {
   "cell_type": "code",
   "execution_count": 40,
   "id": "a6b1b234",
   "metadata": {},
   "outputs": [
    {
     "data": {
      "text/plain": [
       "<matplotlib.collections.PathCollection at 0x19722c24640>"
      ]
     },
     "execution_count": 40,
     "metadata": {},
     "output_type": "execute_result"
    },
    {
     "data": {
      "image/png": "[encoded data removed]",
      "text/plain": [
       "<Figure size 640x480 with 1 Axes>"
      ]
     },
     "metadata": {},
     "output_type": "display_data"
    }
   ],
   "source": [
    "# построим график\n",
    "\n",
    "x_values = pd.Series(range(0,len(ordersByUsers)))\n",
    "\n",
    "plt.scatter(x_values, ordersByUsers['orders']) "
   ]
  },
  {
   "cell_type": "markdown",
   "id": "32e87a3e",
   "metadata": {},
   "source": [
    "***2.6. Промежуточный вывод:***\n",
    "\n",
    "- Большая часть пользователей заказывает 1-2 товара\n",
    "- Есть аномальные заказы, которые в дальнейшем можно исключить"
   ]
  },
  {
   "cell_type": "markdown",
   "id": "c5950d1c",
   "metadata": {},
   "source": [
    "### <a id='2.7'>2.7. Посчитаем 95-й и 99-й перцентили количества заказов на пользователя</a>"
   ]
  },
  {
   "cell_type": "code",
   "execution_count": 41,
   "id": "fb7dd727",
   "metadata": {},
   "outputs": [
    {
     "name": "stdout",
     "output_type": "stream",
     "text": [
      "[1. 2. 4.]\n"
     ]
    }
   ],
   "source": [
    "print(np.percentile(ordersByUsers['orders'], [90, 95, 99]))"
   ]
  },
  {
   "cell_type": "markdown",
   "id": "116523d4",
   "metadata": {},
   "source": [
    "***2.7. Промежуточный вывод***\n",
    "\n",
    "- Видим, что не более чем у 1% пользователей 4 и более заказов\n",
    "- Границей для определения аномальных значений в количестве заказов на пользователя возьмём 4 заказа"
   ]
  },
  {
   "cell_type": "markdown",
   "id": "42627369",
   "metadata": {},
   "source": [
    "### <a id='2.8'>2.8. Построим точечный график стоимостей заказов</a>"
   ]
  },
  {
   "cell_type": "code",
   "execution_count": 42,
   "id": "e8b05182",
   "metadata": {},
   "outputs": [
    {
     "data": {
      "text/plain": [
       "<matplotlib.collections.PathCollection at 0x19722c8f880>"
      ]
     },
     "execution_count": 42,
     "metadata": {},
     "output_type": "execute_result"
    },
    {
     "data": {
      "image/png": "[encoded data removed]",
      "text/plain": [
       "<Figure size 640x480 with 1 Axes>"
      ]
     },
     "metadata": {},
     "output_type": "display_data"
    }
   ],
   "source": [
    "x_values = pd.Series(range(0,len(orders['revenue'])))\n",
    "\n",
    "plt.scatter(x_values, orders['revenue']) "
   ]
  },
  {
   "cell_type": "markdown",
   "id": "a8942066",
   "metadata": {},
   "source": [
    "***2.8. Промежуточные выводы***\n",
    "\n",
    "- Основная часть заказов до 10 000 рублей. Далее можно выделить среднее количество заказов в суммах от 10 ло 20 тысяч\n",
    "- От 20 до 40 тысяч заказов совсем не много"
   ]
  },
  {
   "cell_type": "markdown",
   "id": "6fe52816",
   "metadata": {},
   "source": [
    "### <a id='2.9'>2.9. Посчитаем 95-й и 99-й перцентили стоимости заказов</a>"
   ]
  },
  {
   "cell_type": "code",
   "execution_count": 43,
   "id": "28cf08c9",
   "metadata": {},
   "outputs": [
    {
     "name": "stdout",
     "output_type": "stream",
     "text": [
      "[16929.   20394.   33591.45]\n"
     ]
    }
   ],
   "source": [
    "# считаем перцентили\n",
    "\n",
    "print(np.percentile(orders['revenue'], [90, 95, 99]))"
   ]
  },
  {
   "cell_type": "markdown",
   "id": "0094b7ce",
   "metadata": {},
   "source": [
    "***Промежуточный вывод***\n",
    "\n",
    "Видим что только 1% заказов стоимостью выше 33591 рубля. Это можно считать границей для определения аномальных значений\n",
    "\n",
    "P.S. Я удалял аномальные значения на этапе подготовки данных к анализу и здесь делаю это второй раз"
   ]
  },
  {
   "cell_type": "markdown",
   "id": "cb2995cf",
   "metadata": {},
   "source": [
    "### <a id='2.10'>2.10. Статистическая значимость различий в среднем количестве заказов на посетителя между группами по «сырым» данным</a>"
   ]
  },
  {
   "cell_type": "markdown",
   "id": "291ec1b7",
   "metadata": {},
   "source": [
    "Сформулируем нулевую гипотезу:\n",
    "\n",
    "**Статистически значемых различий в среднем количестве заказов на посетителя между группами 'A' и 'B' по \"сырым\" данным нет**"
   ]
  },
  {
   "cell_type": "markdown",
   "id": "6f4cd875",
   "metadata": {},
   "source": [
    "Сформулируем альтернативную гипотезу:\n",
    "\n",
    "**Статистически значемые различия в среднем количестве заказов на посетителя между группами 'A' и 'B' по \"сырым\" данным есть**"
   ]
  },
  {
   "cell_type": "code",
   "execution_count": 44,
   "id": "b821891d",
   "metadata": {},
   "outputs": [],
   "source": [
    "visitorsADaily = visitors[visitors['group'] == 'A'][['date', 'visitors']]\n",
    "visitorsADaily.columns = ['date', 'visitorsPerDateA']\n",
    "\n",
    "visitorsACummulative = visitorsADaily.apply(\n",
    "    lambda x: visitorsADaily[visitorsADaily['date'] <= x['date']].agg(\n",
    "        {'date': 'max', 'visitorsPerDateA': 'sum'}\n",
    "    ),\n",
    "    axis=1,\n",
    ")\n",
    "visitorsACummulative.columns = ['date', 'visitorsCummulativeA']\n",
    "\n",
    "visitorsBDaily = visitors[visitors['group'] == 'B'][['date', 'visitors']]\n",
    "visitorsBDaily.columns = ['date', 'visitorsPerDateB']\n",
    "\n",
    "visitorsBCummulative = visitorsBDaily.apply(\n",
    "    lambda x: visitorsBDaily[visitorsBDaily['date'] <= x['date']].agg(\n",
    "        {'date': 'max', 'visitorsPerDateB': 'sum'}\n",
    "    ),\n",
    "    axis=1,\n",
    ")\n",
    "visitorsBCummulative.columns = ['date', 'visitorsCummulativeB']\n",
    "\n",
    "ordersADaily = (\n",
    "    orders[orders['group'] == 'A'][['date', 'transaction_id', 'visitor_id', 'revenue']]\n",
    "    .groupby('date', as_index=False)\n",
    "    .agg({'transaction_id': pd.Series.nunique, 'revenue': 'sum'})\n",
    ")\n",
    "ordersADaily.columns = ['date', 'ordersPerDateA', 'revenuePerDateA']\n",
    "\n",
    "ordersACummulative = ordersADaily.apply(\n",
    "    lambda x: ordersADaily[ordersADaily['date'] <= x['date']].agg(\n",
    "        {'date': 'max', 'ordersPerDateA': 'sum', 'revenuePerDateA': 'sum'}\n",
    "    ),\n",
    "    axis=1,\n",
    ").sort_values(by=['date'])\n",
    "ordersACummulative.columns = [\n",
    "    'date',\n",
    "    'ordersCummulativeA',\n",
    "    'revenueCummulativeA',\n",
    "]\n",
    "\n",
    "ordersBDaily = (\n",
    "    orders[orders['group'] == 'B'][['date', 'transaction_id', 'visitor_id', 'revenue']]\n",
    "    .groupby('date', as_index=False)\n",
    "    .agg({'transaction_id': pd.Series.nunique, 'revenue': 'sum'})\n",
    ")\n",
    "ordersBDaily.columns = ['date', 'ordersPerDateB', 'revenuePerDateB']\n",
    "\n",
    "ordersBCummulative = ordersBDaily.apply(\n",
    "    lambda x: ordersBDaily[ordersBDaily['date'] <= x['date']].agg(\n",
    "        {'date': 'max', 'ordersPerDateB': 'sum', 'revenuePerDateB': 'sum'}\n",
    "    ),\n",
    "    axis=1,\n",
    ").sort_values(by=['date'])\n",
    "ordersBCummulative.columns = [\n",
    "    'date',\n",
    "    'ordersCummulativeB',\n",
    "    'revenueCummulativeB',\n",
    "]\n",
    "\n",
    "data = (\n",
    "    ordersADaily.merge(\n",
    "        ordersBDaily, left_on='date', right_on='date', how='left'\n",
    "    )\n",
    "    .merge(ordersACummulative, left_on='date', right_on='date', how='left')\n",
    "    .merge(ordersBCummulative, left_on='date', right_on='date', how='left')\n",
    "    .merge(visitorsADaily, left_on='date', right_on='date', how='left')\n",
    "    .merge(visitorsBDaily, left_on='date', right_on='date', how='left')\n",
    "    .merge(visitorsACummulative, left_on='date', right_on='date', how='left')\n",
    "    .merge(visitorsBCummulative, left_on='date', right_on='date', how='left')\n",
    ")"
   ]
  },
  {
   "cell_type": "code",
   "execution_count": 45,
   "id": "38ad2d5f",
   "metadata": {},
   "outputs": [],
   "source": [
    "# создадим переменные и сохраним в них пользователей\n",
    "#  которые делали заказ хотя бы раз и укажем количество заказов\n",
    "\n",
    "ordersByUsersA = (\n",
    "    orders[orders['group'] == 'A']\n",
    "    .groupby('visitor_id', as_index=False)\n",
    "    .agg({'transaction_id': pd.Series.nunique})\n",
    ")\n",
    "ordersByUsersA.columns = ['userId', 'orders']\n",
    "\n",
    "ordersByUsersB = (\n",
    "    orders[orders['group'] == 'B']\n",
    "    .groupby('visitor_id', as_index=False)\n",
    "    .agg({'transaction_id': pd.Series.nunique})\n",
    ")\n",
    "ordersByUsersB.columns = ['userId', 'orders'] "
   ]
  },
  {
   "cell_type": "code",
   "execution_count": 46,
   "id": "1b82c366",
   "metadata": {},
   "outputs": [],
   "source": [
    "# найдем количество заказов для пользователй из разных групп\n",
    "# сохраним в переменные\n",
    "\n",
    "pd.Series(0, index=np.arange(data['visitorsPerDateA'].sum() - len(ordersByUsersA['orders'])), name='orders')\n",
    "\n",
    "sampleA = pd.concat([ordersByUsersA['orders'],pd.Series(0, index=np.arange(data['visitorsPerDateA'].sum() - len(ordersByUsersA['orders'])), name='orders')],axis=0)\n",
    "\n",
    "sampleB = pd.concat([ordersByUsersB['orders'],pd.Series(0, index=np.arange(data['visitorsPerDateB'].sum() - len(ordersByUsersB['orders'])), name='orders')],axis=0)"
   ]
  },
  {
   "cell_type": "code",
   "execution_count": 47,
   "id": "70f624c3",
   "metadata": {},
   "outputs": [
    {
     "name": "stdout",
     "output_type": "stream",
     "text": [
      "p-value = 0.010\n"
     ]
    }
   ],
   "source": [
    "print('p-value =', \"{0:.3f}\".format(stats.mannwhitneyu(sampleA, sampleB)[1]))"
   ]
  },
  {
   "cell_type": "markdown",
   "id": "3f5a331a",
   "metadata": {},
   "source": [
    "***Промежуточный вывод***\n",
    "\n",
    "Значение p-value 0.01 < 0.05 значит нулевую гипотезу о том, что статистически значимых различий в среднем числе заказов между группами нет - отвергаем\n"
   ]
  },
  {
   "cell_type": "markdown",
   "id": "992e375d",
   "metadata": {},
   "source": [
    "### <a id='2.11'>2.11. Статистическая значимость различий в среднем чеке заказа между группами по «сырым» данным</a>"
   ]
  },
  {
   "cell_type": "markdown",
   "id": "c7dab7ea",
   "metadata": {},
   "source": [
    "Сформулируем нулевую гипотезу:\n",
    "\n",
    "**Статистически значемых различий в среднем чеке заказа между группами 'A' и 'B' по \"сырым\" данным нет**"
   ]
  },
  {
   "cell_type": "code",
   "execution_count": 48,
   "id": "25685238",
   "metadata": {},
   "outputs": [
    {
     "name": "stdout",
     "output_type": "stream",
     "text": [
      "p-value = 0.470\n"
     ]
    }
   ],
   "source": [
    "print('p-value =', '{0:.3f}'.format(stats.mannwhitneyu(orders[orders['group']=='A']['revenue'], orders[orders['group']=='B']['revenue'])[1]))"
   ]
  },
  {
   "cell_type": "markdown",
   "id": "557225e8",
   "metadata": {},
   "source": [
    "***Промежуточные выводы***\n",
    "\n",
    "Значение p-value 0.47 больше 0.05, значит причин отвергнуть нулевую гипотезу нет. То есть в среднем чеке нет различий"
   ]
  },
  {
   "cell_type": "markdown",
   "id": "a7dcdf4d",
   "metadata": {},
   "source": [
    "### <a id='2.12'>2.12. Cтатистическая значимость различий в среднем количестве заказов на посетителя между группами по «очищенным» данным</a>"
   ]
  },
  {
   "cell_type": "code",
   "execution_count": 49,
   "id": "a6ecad72",
   "metadata": {},
   "outputs": [
    {
     "data": {
      "text/plain": [
       "4"
      ]
     },
     "execution_count": 49,
     "metadata": {},
     "output_type": "execute_result"
    }
   ],
   "source": [
    "max_revenue =  int(np.percentile(ordersByUsers[\"orders\"], [99]))\n",
    "max_revenue"
   ]
  },
  {
   "cell_type": "code",
   "execution_count": 50,
   "id": "776915ad",
   "metadata": {},
   "outputs": [
    {
     "name": "stdout",
     "output_type": "stream",
     "text": [
      "751     689129267\n",
      "654     816783716\n",
      "563     935349363\n",
      "549    1367935136\n",
      "420    1606766439\n",
      "dtype: int64\n",
      "16\n"
     ]
    }
   ],
   "source": [
    "# найдем количество аномальных пользователей\n",
    "# в качестве границы отсечки будем исползовать данные, которые нашли выше\n",
    "\n",
    "# сохраним в переменную значение перцентилей для отсечки аномальных значений\n",
    "max_orders =  int(np.percentile(ordersByUsers['orders'], [99]))\n",
    "max_revenue = int(np.percentile(orders['revenue'], [99]))\n",
    "\n",
    "usersWithManyOrders = pd.concat(\n",
    "    [\n",
    "        ordersByUsersA[ordersByUsersA['orders'] > max_orders]['userId'],\n",
    "        ordersByUsersB[ordersByUsersB['orders'] > max_orders]['userId'],\n",
    "    ],\n",
    "    axis=0,\n",
    ")\n",
    "usersWithExpensiveOrders = orders[orders['revenue'] > max_revenue]['visitor_id']\n",
    "abnormalUsers = (\n",
    "    pd.concat([usersWithManyOrders, usersWithExpensiveOrders], axis=0)\n",
    "    .drop_duplicates()\n",
    "    .sort_values()\n",
    ")\n",
    "print(abnormalUsers.head(5))\n",
    "print(abnormalUsers.shape[0])"
   ]
  },
  {
   "cell_type": "markdown",
   "id": "c438b5e2",
   "metadata": {},
   "source": [
    "Аномальных пользователей - 16 человек"
   ]
  },
  {
   "cell_type": "code",
   "execution_count": 51,
   "id": "7922b54f",
   "metadata": {},
   "outputs": [],
   "source": [
    "sampleAFiltered = pd.concat(\n",
    "    [\n",
    "        ordersByUsersA[\n",
    "            np.logical_not(ordersByUsersA['userId'].isin(abnormalUsers))\n",
    "        ]['orders'],\n",
    "        pd.Series(\n",
    "            0,\n",
    "            index=np.arange(\n",
    "                data['visitorsPerDateA'].sum() - len(ordersByUsersA['orders'])\n",
    "            ),\n",
    "            name='orders',\n",
    "        ),\n",
    "    ],\n",
    "    axis=0,\n",
    ")\n",
    "\n",
    "sampleBFiltered = pd.concat(\n",
    "    [\n",
    "        ordersByUsersB[\n",
    "            np.logical_not(ordersByUsersB['userId'].isin(abnormalUsers))\n",
    "        ]['orders'],\n",
    "        pd.Series(\n",
    "            0,\n",
    "            index=np.arange(\n",
    "                data['visitorsPerDateB'].sum() - len(ordersByUsersB['orders'])\n",
    "            ),\n",
    "            name='orders',\n",
    "        ),\n",
    "    ],\n",
    "    axis=0,\n",
    ") "
   ]
  },
  {
   "cell_type": "code",
   "execution_count": 52,
   "id": "35b07fcc",
   "metadata": {},
   "outputs": [
    {
     "name": "stdout",
     "output_type": "stream",
     "text": [
      "0.015\n"
     ]
    }
   ],
   "source": [
    "print('{0:.3f}'.format(stats.mannwhitneyu(sampleAFiltered, sampleBFiltered)[1]))"
   ]
  },
  {
   "cell_type": "markdown",
   "id": "84215952",
   "metadata": {},
   "source": [
    "***Промежуточный вывод***\n",
    "- Значение p-value=0.015, что не на много больше значения по \"сырым\" данным (0.01)\n",
    "- Делаем вывод, что результат по среднему количеству заказов практически не изменился"
   ]
  },
  {
   "cell_type": "markdown",
   "id": "c8f57a90",
   "metadata": {},
   "source": [
    "### <a id='2.13'>2.13. Статистическая значимость различий в среднем чеке заказа между группами по «очищенным» данным</a>"
   ]
  },
  {
   "cell_type": "code",
   "execution_count": 53,
   "id": "07791bb4",
   "metadata": {},
   "outputs": [
    {
     "name": "stdout",
     "output_type": "stream",
     "text": [
      "0.864\n"
     ]
    }
   ],
   "source": [
    "print(\n",
    "    '{0:.3f}'.format(\n",
    "        stats.mannwhitneyu(\n",
    "            orders[\n",
    "                np.logical_and(\n",
    "                    orders['group'] == 'A',\n",
    "                    np.logical_not(orders['visitor_id'].isin(abnormalUsers)),\n",
    "                )\n",
    "            ]['revenue'],\n",
    "            orders[\n",
    "                np.logical_and(\n",
    "                    orders['group'] == 'B',\n",
    "                    np.logical_not(orders['visitor_id'].isin(abnormalUsers)),\n",
    "                )\n",
    "            ]['revenue'],\n",
    "        )[1]\n",
    "    )\n",
    ")"
   ]
  },
  {
   "cell_type": "markdown",
   "id": "d1b24511",
   "metadata": {},
   "source": [
    "***Промежуточный вывод***\n",
    "\n",
    "- p-value = 0.864  увеличилось относительно \"неочищенных\" данных (0.47)\n",
    "\n",
    "- В среднем чеке по прежнему нет статистически значимых различий между группой А и B"
   ]
  },
  {
   "cell_type": "markdown",
   "id": "b35c12ec",
   "metadata": {},
   "source": [
    "### <a id='2.14'>Общие выводы</a>"
   ]
  },
  {
   "cell_type": "markdown",
   "id": "218897ec",
   "metadata": {},
   "source": [
    "- Изменения на сайте влияют непосредственно на реального посетителя, а реклама - на потенциального посетителя сайта;\n",
    "- Проведя приоретизацию гипотез по увеличению выручки на сайте увидели, что на первое место вышли гипотезы которые работают с посетителями сайта;\n",
    "- Согласно проведенной приоретизации первое, что можно сделать: **Добавить форму подписки на все основные страницы, чтобы собрать базу клиентов для email-рассылок** и **Добавить блоки рекомендаций товаров на сайт интернет магазина, чтобы повысить конверсию и средний чек заказа**\n",
    "- Гипотезы же рекламно-маркетнговые ушли ниже.\n",
    "\n",
    "---\n",
    "- По результатам A/B-тестирования группа 'B' показала лучше результат группы 'A' как по среднему чеку, так и по количеству заказов;\n",
    "- На графиках среднего чека и среднего количества заказов видно преемущество группы 'B';\n",
    "- Есть статистически значимые различия в среднем количестве заказов;\n",
    "- При этом нет различий в среднем чеке.\n",
    "\n",
    "Группа 'B' показала лучше результат чем группа 'A' - больше количество заказов. Видно, что нет тенденций к дальнейшему принципиальному изменению в группах. Поэтому тест можно завершить."
   ]
  }
 ],
 "metadata": {
  "ExecuteTimeLog": [
   {
    "duration": 1282,
    "start_time": "2023-02-03T10:54:41.261Z"
   },
   {
    "duration": 340,
    "start_time": "2023-02-03T10:54:42.546Z"
   },
   {
    "duration": 12,
    "start_time": "2023-02-03T10:54:42.888Z"
   },
   {
    "duration": 25,
    "start_time": "2023-02-03T10:54:42.902Z"
   },
   {
    "duration": 13,
    "start_time": "2023-02-03T10:54:42.929Z"
   },
   {
    "duration": 22,
    "start_time": "2023-02-03T10:54:42.944Z"
   },
   {
    "duration": 7,
    "start_time": "2023-02-03T10:54:42.968Z"
   },
   {
    "duration": 19,
    "start_time": "2023-02-03T10:54:42.977Z"
   },
   {
    "duration": 53,
    "start_time": "2023-02-03T10:54:42.998Z"
   },
   {
    "duration": 12,
    "start_time": "2023-02-03T10:54:43.053Z"
   },
   {
    "duration": 20,
    "start_time": "2023-02-03T10:54:43.067Z"
   },
   {
    "duration": 12,
    "start_time": "2023-02-03T10:54:43.089Z"
   },
   {
    "duration": 12,
    "start_time": "2023-02-03T10:54:43.103Z"
   },
   {
    "duration": 5,
    "start_time": "2023-02-03T10:54:43.119Z"
   },
   {
    "duration": 13,
    "start_time": "2023-02-03T10:54:43.125Z"
   },
   {
    "duration": 5,
    "start_time": "2023-02-03T10:54:43.140Z"
   },
   {
    "duration": 308,
    "start_time": "2023-02-03T10:54:43.146Z"
   },
   {
    "duration": 4,
    "start_time": "2023-02-03T10:54:43.456Z"
   },
   {
    "duration": 29,
    "start_time": "2023-02-03T10:54:43.462Z"
   },
   {
    "duration": 15,
    "start_time": "2023-02-03T10:54:43.493Z"
   },
   {
    "duration": 10,
    "start_time": "2023-02-03T10:54:43.510Z"
   },
   {
    "duration": 7,
    "start_time": "2023-02-03T10:54:43.522Z"
   },
   {
    "duration": 16,
    "start_time": "2023-02-03T10:54:43.531Z"
   },
   {
    "duration": 15,
    "start_time": "2023-02-03T10:54:43.549Z"
   },
   {
    "duration": 8,
    "start_time": "2023-02-03T10:54:43.566Z"
   },
   {
    "duration": 186,
    "start_time": "2023-02-03T10:54:43.576Z"
   },
   {
    "duration": 121,
    "start_time": "2023-02-03T10:54:43.764Z"
   },
   {
    "duration": 20,
    "start_time": "2023-02-03T10:54:43.887Z"
   },
   {
    "duration": 14,
    "start_time": "2023-02-03T10:54:43.909Z"
   },
   {
    "duration": 11,
    "start_time": "2023-02-03T10:54:43.925Z"
   },
   {
    "duration": 321,
    "start_time": "2023-02-03T10:54:43.938Z"
   },
   {
    "duration": 185,
    "start_time": "2023-02-03T10:54:44.261Z"
   },
   {
    "duration": 313,
    "start_time": "2023-02-03T10:54:44.447Z"
   },
   {
    "duration": 179,
    "start_time": "2023-02-03T10:54:44.762Z"
   },
   {
    "duration": 5,
    "start_time": "2023-02-03T10:54:44.943Z"
   },
   {
    "duration": 301,
    "start_time": "2023-02-03T10:54:44.950Z"
   },
   {
    "duration": 7,
    "start_time": "2023-02-03T10:54:45.253Z"
   },
   {
    "duration": 121,
    "start_time": "2023-02-03T10:54:45.261Z"
   },
   {
    "duration": 4,
    "start_time": "2023-02-03T10:54:45.384Z"
   },
   {
    "duration": 140,
    "start_time": "2023-02-03T10:54:45.399Z"
   },
   {
    "duration": 3,
    "start_time": "2023-02-03T10:54:45.543Z"
   },
   {
    "duration": 316,
    "start_time": "2023-02-03T10:54:45.548Z"
   },
   {
    "duration": 134,
    "start_time": "2023-02-03T10:54:45.865Z"
   },
   {
    "duration": 7,
    "start_time": "2023-02-03T10:54:46.000Z"
   },
   {
    "duration": 22,
    "start_time": "2023-02-03T10:54:46.009Z"
   },
   {
    "duration": 7,
    "start_time": "2023-02-03T10:54:46.033Z"
   },
   {
    "duration": 9,
    "start_time": "2023-02-03T10:54:46.041Z"
   },
   {
    "duration": 11,
    "start_time": "2023-02-03T10:54:46.051Z"
   },
   {
    "duration": 37,
    "start_time": "2023-02-03T10:54:46.064Z"
   },
   {
    "duration": 9,
    "start_time": "2023-02-03T10:54:46.102Z"
   },
   {
    "duration": 1373,
    "start_time": "2023-02-05T21:21:22.125Z"
   },
   {
    "duration": 321,
    "start_time": "2023-02-05T21:21:23.501Z"
   },
   {
    "duration": 13,
    "start_time": "2023-02-05T21:21:23.824Z"
   },
   {
    "duration": 2,
    "start_time": "2023-02-05T21:21:23.839Z"
   },
   {
    "duration": 17,
    "start_time": "2023-02-05T21:21:23.845Z"
   },
   {
    "duration": 36,
    "start_time": "2023-02-05T21:21:23.864Z"
   },
   {
    "duration": 12,
    "start_time": "2023-02-05T21:21:23.902Z"
   },
   {
    "duration": 42,
    "start_time": "2023-02-05T21:21:23.916Z"
   },
   {
    "duration": 19,
    "start_time": "2023-02-05T21:21:23.960Z"
   },
   {
    "duration": 6,
    "start_time": "2023-02-05T21:21:23.981Z"
   },
   {
    "duration": 18,
    "start_time": "2023-02-05T21:21:23.989Z"
   },
   {
    "duration": 29,
    "start_time": "2023-02-05T21:21:24.008Z"
   },
   {
    "duration": 22,
    "start_time": "2023-02-05T21:21:24.041Z"
   },
   {
    "duration": 6,
    "start_time": "2023-02-05T21:21:24.067Z"
   },
   {
    "duration": 16,
    "start_time": "2023-02-05T21:21:24.074Z"
   },
   {
    "duration": 7,
    "start_time": "2023-02-05T21:21:24.092Z"
   },
   {
    "duration": 315,
    "start_time": "2023-02-05T21:21:24.100Z"
   },
   {
    "duration": 22,
    "start_time": "2023-02-05T21:21:24.417Z"
   },
   {
    "duration": 13,
    "start_time": "2023-02-05T21:21:24.440Z"
   },
   {
    "duration": 20,
    "start_time": "2023-02-05T21:21:24.455Z"
   },
   {
    "duration": 7,
    "start_time": "2023-02-05T21:21:24.477Z"
   },
   {
    "duration": 14,
    "start_time": "2023-02-05T21:21:24.486Z"
   },
   {
    "duration": 13,
    "start_time": "2023-02-05T21:21:24.503Z"
   },
   {
    "duration": 21,
    "start_time": "2023-02-05T21:21:24.526Z"
   },
   {
    "duration": 18,
    "start_time": "2023-02-05T21:21:24.550Z"
   },
   {
    "duration": 10,
    "start_time": "2023-02-05T21:21:24.569Z"
   },
   {
    "duration": 10,
    "start_time": "2023-02-05T21:21:24.582Z"
   },
   {
    "duration": 209,
    "start_time": "2023-02-05T21:21:24.594Z"
   },
   {
    "duration": 147,
    "start_time": "2023-02-05T21:21:24.805Z"
   },
   {
    "duration": 7,
    "start_time": "2023-02-05T21:21:24.954Z"
   },
   {
    "duration": 8,
    "start_time": "2023-02-05T21:21:24.963Z"
   },
   {
    "duration": 8,
    "start_time": "2023-02-05T21:21:24.973Z"
   },
   {
    "duration": 336,
    "start_time": "2023-02-05T21:21:24.983Z"
   },
   {
    "duration": 239,
    "start_time": "2023-02-05T21:21:25.321Z"
   },
   {
    "duration": 375,
    "start_time": "2023-02-05T21:21:25.561Z"
   },
   {
    "duration": 216,
    "start_time": "2023-02-05T21:21:25.938Z"
   },
   {
    "duration": 7,
    "start_time": "2023-02-05T21:21:26.155Z"
   },
   {
    "duration": 346,
    "start_time": "2023-02-05T21:21:26.165Z"
   },
   {
    "duration": 19,
    "start_time": "2023-02-05T21:21:26.513Z"
   },
   {
    "duration": 160,
    "start_time": "2023-02-05T21:21:26.534Z"
   },
   {
    "duration": 5,
    "start_time": "2023-02-05T21:21:26.699Z"
   },
   {
    "duration": 191,
    "start_time": "2023-02-05T21:21:26.706Z"
   },
   {
    "duration": 5,
    "start_time": "2023-02-05T21:21:26.899Z"
   },
   {
    "duration": 364,
    "start_time": "2023-02-05T21:21:26.905Z"
   },
   {
    "duration": 145,
    "start_time": "2023-02-05T21:21:27.271Z"
   },
   {
    "duration": 14,
    "start_time": "2023-02-05T21:21:27.419Z"
   },
   {
    "duration": 28,
    "start_time": "2023-02-05T21:21:27.435Z"
   },
   {
    "duration": 11,
    "start_time": "2023-02-05T21:21:27.466Z"
   },
   {
    "duration": 6,
    "start_time": "2023-02-05T21:21:27.479Z"
   },
   {
    "duration": 12,
    "start_time": "2023-02-05T21:21:27.487Z"
   },
   {
    "duration": 43,
    "start_time": "2023-02-05T21:21:27.501Z"
   },
   {
    "duration": 26,
    "start_time": "2023-02-05T21:21:27.547Z"
   },
   {
    "duration": 12,
    "start_time": "2023-02-05T21:21:27.575Z"
   }
  ],
  "kernelspec": {
   "display_name": "Python 3 (ipykernel)",
   "language": "python",
   "name": "python3"
  },
  "language_info": {
   "codemirror_mode": {
    "name": "ipython",
    "version": 3
   },
   "file_extension": ".py",
   "mimetype": "text/x-python",
   "name": "python",
   "nbconvert_exporter": "python",
   "pygments_lexer": "ipython3",
   "version": "3.9.13"
  },
  "toc": {
   "base_numbering": 1,
   "nav_menu": {},
   "number_sections": true,
   "sideBar": true,
   "skip_h1_title": true,
   "title_cell": "Table of Contents",
   "title_sidebar": "Contents",
   "toc_cell": false,
   "toc_position": {},
   "toc_section_display": true,
   "toc_window_display": false
  }
 },
 "nbformat": 4,
 "nbformat_minor": 5
}
